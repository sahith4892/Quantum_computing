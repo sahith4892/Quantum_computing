{
 "cells": [
  {
   "cell_type": "code",
   "execution_count": 20,
   "id": "e2239149-8e67-4715-a803-56e2f2df0454",
   "metadata": {
    "tags": []
   },
   "outputs": [],
   "source": [
    "from qiskit import QuantumCircuit\n",
    "from qiskit_aer import AerSimulator"
   ]
  },
  {
   "cell_type": "code",
   "execution_count": 8,
   "id": "eb05b7ba-fcfc-4aed-95ab-52f7f3f70bd2",
   "metadata": {
    "tags": []
   },
   "outputs": [],
   "source": [
    "def deutsch_function( case):\n",
    "    # in this function we will implement a simple input function or a orcle depending on the case, it can be balanced or constant.\n",
    "    \n",
    "    if case not in [1,2,3,4]:\n",
    "        raise ValueError(' case must be between 1 and 4 (inclusive)')\n",
    "        \n",
    "    else:\n",
    "        f = QuantumCircuit(2)\n",
    "        if case in [2,3]:\n",
    "            f.cx(0,1)\n",
    "        else:\n",
    "            f.x(1)\n",
    "        return f"
   ]
  },
  {
   "cell_type": "code",
   "execution_count": 10,
   "id": "2be6e64a-67db-4e32-a022-a4f77676c477",
   "metadata": {
    "tags": []
   },
   "outputs": [
    {
     "data": {
      "image/png": "[encoded data removed]",
      "text/plain": [
       "<Figure size 203.683x200.667 with 1 Axes>"
      ]
     },
     "metadata": {},
     "output_type": "display_data"
    }
   ],
   "source": [
    "display(deutsch_function(1).draw())"
   ]
  },
  {
   "cell_type": "code",
   "execution_count": 18,
   "id": "dc35c0b0-20bf-4ae1-82de-e68819be86cd",
   "metadata": {
    "tags": []
   },
   "outputs": [],
   "source": [
    "def compile_circuit( deutsch_function):\n",
    "    # this function puts together the oracle/input function circuit and the deutsch algorithm circuit\n",
    "    \n",
    "    qc = QuantumCircuit(2,1)\n",
    "    qc.x(1)  # lets make the second qubit 1\n",
    "    qc.h(range(2)) # we add haddamard gate to both the qubits\n",
    "    qc.barrier()\n",
    "    qc.compose(deutsch_function, inplace = True)\n",
    "    qc.barrier()\n",
    "    qc.h(0) # add a h gate to the first qubit\n",
    "    qc.measure(0, 0)\n",
    "    \n",
    "    return qc\n",
    "   "
   ]
  },
  {
   "cell_type": "code",
   "execution_count": 19,
   "id": "f9678349-947f-4fbc-9ff8-0f2d6bc36307",
   "metadata": {
    "tags": []
   },
   "outputs": [
    {
     "data": {
      "image/png": "[encoded data removed]",
      "text/plain": [
       "<Figure size 705.35x284.278 with 1 Axes>"
      ]
     },
     "execution_count": 19,
     "metadata": {},
     "output_type": "execute_result"
    }
   ],
   "source": [
    "compile_circuit(deutsch_function(2)).draw()"
   ]
  },
  {
   "cell_type": "code",
   "execution_count": 17,
   "id": "3ebc0a9d-1187-46f7-a0e8-d9a21e662632",
   "metadata": {
    "tags": []
   },
   "outputs": [
    {
     "data": {
      "image/png": "[encoded data removed]",
      "text/plain": [
       "<Figure size 287.294x284.278 with 1 Axes>"
      ]
     },
     "execution_count": 17,
     "metadata": {},
     "output_type": "execute_result"
    }
   ],
   "source": [
    "qc = QuantumCircuit(2,1) # testing\n",
    "qc.x(1)\n",
    "qc.h(range(2))\n",
    "qc.draw()\n"
   ]
  },
  {
   "cell_type": "code",
   "execution_count": null,
   "id": "af7ed929-0feb-4310-b7d8-fe68da8d9985",
   "metadata": {},
   "outputs": [],
   "source": [
    "def deutsch_algorithm(deutsch_function):\n",
    "    # this function will run the circuit and output if the oracle is constant or balanced.\n",
    "    qc = compile_circuit(deutsch_function)\n",
    "    result = AerSimulator().run(qc, shots =1, memory = True).result()\n",
    "    if result.get_memory()[0] == '0':\n",
    "        print('t\n",
    "    "
   ]
  },
  {
   "cell_type": "code",
   "execution_count": null,
   "id": "0da655d9-c88c-4a0d-bdc0-59b67cdafbdc",
   "metadata": {},
   "outputs": [],
   "source": []
  },
  {
   "cell_type": "code",
   "execution_count": null,
   "id": "498224ac-28f1-4834-8fc3-68f366c32340",
   "metadata": {},
   "outputs": [],
   "source": []
  }
 ],
 "metadata": {
  "kernelspec": {
   "display_name": "Qiskit v1.0.2 (ipykernel)",
   "language": "python",
   "name": "python3"
  },
  "language_info": {
   "codemirror_mode": {
    "name": "ipython",
    "version": 3
   },
   "file_extension": ".py",
   "mimetype": "text/x-python",
   "name": "python",
   "nbconvert_exporter": "python",
   "pygments_lexer": "ipython3",
   "version": "3.10.8"
  },
  "widgets": {
   "application/vnd.jupyter.widget-state+json": {
    "state": {},
    "version_major": 2,
    "version_minor": 0
   }
  }
 },
 "nbformat": 4,
 "nbformat_minor": 5
}
