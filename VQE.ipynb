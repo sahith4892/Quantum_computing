{
 "cells": [
  {
   "cell_type": "markdown",
   "id": "2d201906-57ef-434a-a99e-e3cc6efb9864",
   "metadata": {},
   "source": [
    "# Evaluating the cost function"
   ]
  },
  {
   "cell_type": "code",
   "execution_count": 16,
   "id": "8119c865-8d7f-4642-9f90-110260f653fd",
   "metadata": {
    "tags": []
   },
   "outputs": [],
   "source": [
    "from qiskit.circuit.library import TwoLocal\n",
    "from qiskit import QuantumCircuit\n",
    "from qiskit_ibm_runtime import QiskitRuntimeService, Estimator, Session\n",
    "from qiskit.quantum_info import SparsePauliOp\n",
    "import numpy as np\n",
    "from qiskit_aer import AerSimulator\n",
    "from qiskit.compiler import transpile"
   ]
  },
  {
   "cell_type": "code",
   "execution_count": 2,
   "id": "da050bb6-3dc5-492a-b200-020bf5ceb735",
   "metadata": {
    "tags": []
   },
   "outputs": [],
   "source": [
    "def cost_func_vqe(params, ansatz, hamiltonian, estimator):\n",
    "    \"\"\"Return estimate of energy from estimator\n",
    "\n",
    "    Parameters:\n",
    "        params (ndarray): Array of ansatz parameters\n",
    "        ansatz (QuantumCircuit): Parameterized ansatz circuit\n",
    "        hamiltonian (SparsePauliOp): Operator representation of Hamiltonian\n",
    "        estimator (Estimator): Estimator primitive instance\n",
    "\n",
    "    Returns:\n",
    "        float: Energy estimate\n",
    "    \"\"\"\n",
    "    cost = estimator.run(ansatz, hamiltonian, parameter_values=params).result().values[0]\n",
    "    return cost"
   ]
  },
  {
   "cell_type": "code",
   "execution_count": 17,
   "id": "be5d001a-7fd0-487e-b7f9-0809c15abdff",
   "metadata": {
    "tags": []
   },
   "outputs": [
    {
     "data": {
      "image/png": "[encoded data removed]",
      "text/plain": [
       "<Figure size 621.739x200.667 with 1 Axes>"
      ]
     },
     "execution_count": 17,
     "metadata": {},
     "output_type": "execute_result"
    }
   ],
   "source": []
  },
  {
   "cell_type": "code",
   "execution_count": 24,
   "id": "244a367b-7f68-4675-99aa-beca3be52cc8",
   "metadata": {
    "tags": []
   },
   "outputs": [
    {
     "name": "stderr",
     "output_type": "stream",
     "text": [
      "qiskit_runtime_service.__init__:INFO:2024-04-01 12:22:39,587: Default instance: ibm-q/open/main\n",
      "base_primitive._run_primitive:INFO:2024-04-01 12:22:52,520: Submitting job using options {'optimization_level': 1, 'resilience_level': 0, 'transpilation': {'skip_transpilation': False, 'optimization_settings': {'level': 1}}, 'resilience': {'level': 0}, 'execution': {'shots': 4000, 'init_qubits': True}, 'environment': {'log_level': 'WARNING'}, 'simulator': {'noise_model': Unset, 'seed_simulator': Unset, 'coupling_map': Unset, 'basis_gates': Unset}}\n",
      "/opt/conda/lib/python3.10/site-packages/qiskit_ibm_runtime/qiskit_runtime_service.py:878: UserWarning: Cloud simulators will be deprecated on 15 May 2024. Use the new local testing mode in qiskit-ibm-runtime version 0.22.0 or later to meet your debugging needs.\n",
      "  warnings.warn(warning_message)\n"
     ]
    },
    {
     "name": "stdout",
     "output_type": "stream",
     "text": [
      "-0.948\n"
     ]
    }
   ],
   "source": [
    "\n",
    "# Add your token below\n",
    "service = QiskitRuntimeService(channel=\"ibm_quantum\")\n",
    "backend = service.least_busy( operational=True, simulator=True)\n",
    "\n",
    "session = Session(backend=backend, )\n",
    "\n",
    "# backend = AerSimulator()\n",
    "\n",
    "\n",
    "# In this cell we are building the reference state and building variation form (parameterising the input)\n",
    "\n",
    "observable = SparsePauliOp.from_list([(\"XX\", 1), (\"YY\", -3)])\n",
    "\n",
    "reference_circuit = QuantumCircuit(2)\n",
    "reference_circuit.x(0)\n",
    "\n",
    "variational_form = TwoLocal(\n",
    "    2,\n",
    "    rotation_blocks=[\"rz\", \"ry\"],\n",
    "    entanglement_blocks=\"cx\",\n",
    "    entanglement=\"linear\",\n",
    "    reps=1,\n",
    ")\n",
    "ansatz = transpile(reference_circuit.compose(variational_form), backend = backend)\n",
    "\n",
    "ansatz.decompose().draw('mpl')\n",
    "\n",
    "\n",
    "# Use estimator to get the expected values corresponding to each ansatz\n",
    "estimator = Estimator(session=session)\n",
    "\n",
    "theta_list = (2 * np.pi * np.random.rand(1, 8)).tolist()\n",
    "\n",
    "\n",
    "cost = cost_func_vqe(theta_list, ansatz, observable, estimator)\n",
    "\n",
    "# Close session after done\n",
    "session.close()\n",
    "\n",
    "print(cost)"
   ]
  },
  {
   "cell_type": "markdown",
   "id": "ec1058ff-f7f3-465e-ac11-f3787bfc1bc8",
   "metadata": {},
   "source": []
  },
  {
   "cell_type": "code",
   "execution_count": null,
   "id": "504d75fd-1fe8-41a6-8b79-187003e0e800",
   "metadata": {},
   "outputs": [],
   "source": []
  }
 ],
 "metadata": {
  "kernelspec": {
   "display_name": "Qiskit v1.0.2 (ipykernel)",
   "language": "python",
   "name": "python3"
  },
  "language_info": {
   "codemirror_mode": {
    "name": "ipython",
    "version": 3
   },
   "file_extension": ".py",
   "mimetype": "text/x-python",
   "name": "python",
   "nbconvert_exporter": "python",
   "pygments_lexer": "ipython3",
   "version": "3.10.8"
  },
  "widgets": {
   "application/vnd.jupyter.widget-state+json": {
    "state": {},
    "version_major": 2,
    "version_minor": 0
   }
  }
 },
 "nbformat": 4,
 "nbformat_minor": 5
}
