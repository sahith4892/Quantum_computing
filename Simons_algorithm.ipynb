{
 "cells": [
  {
   "cell_type": "code",
   "execution_count": 1,
   "id": "20d297aa-7fb5-4830-8ab3-4eb4d202f28d",
   "metadata": {
    "tags": []
   },
   "outputs": [
    {
     "name": "stdout",
     "output_type": "stream",
     "text": [
      "Requirement already satisfied: galois in /opt/conda/lib/python3.10/site-packages (0.3.8)\n",
      "Requirement already satisfied: numpy<1.27,>=1.21.0 in /opt/conda/lib/python3.10/site-packages (from galois) (1.23.5)\n",
      "Requirement already satisfied: numba<0.60,>=0.55 in /opt/conda/lib/python3.10/site-packages (from galois) (0.56.4)\n",
      "Requirement already satisfied: typing-extensions>=4.0.0 in /opt/conda/lib/python3.10/site-packages (from galois) (4.9.0)\n",
      "Requirement already satisfied: llvmlite<0.40,>=0.39.0dev0 in /opt/conda/lib/python3.10/site-packages (from numba<0.60,>=0.55->galois) (0.39.1)\n",
      "Requirement already satisfied: setuptools in /opt/conda/lib/python3.10/site-packages (from numba<0.60,>=0.55->galois) (65.5.1)\n"
     ]
    }
   ],
   "source": [
    "! pip install galois"
   ]
  },
  {
   "cell_type": "code",
   "execution_count": 3,
   "id": "3d33df96-37a6-47d1-a412-1f63c5b83989",
   "metadata": {
    "tags": []
   },
   "outputs": [],
   "source": [
    "import qiskit.quantum_info as qi\n",
    "from qiskit import QuantumCircuit\n",
    "import numpy as np\n",
    "import matplotlib.pyplot as plt\n",
    "from qiskit_aer import AerSimulator\n",
    "from qiskit import ClassicalRegister\n"
   ]
  },
  {
   "cell_type": "code",
   "execution_count": 4,
   "id": "261b2040-180e-4abf-b882-1521103b98e2",
   "metadata": {
    "tags": []
   },
   "outputs": [],
   "source": [
    "def simon_function(s):\n",
    "    # here we define the input funtion which holds the prommise that \n",
    "    # f(x) = f(y) iff y = s^x\n",
    "\n",
    "    n = len(s)\n",
    "    qc  = QuantumCircuit(2*n)\n",
    "    pi = np.random.permutation(2**n) # these are all the permutations of s that are possible.\n",
    "\n",
    "    # the way we try to build a function that fulfills the promise is with this \n",
    "    # function.\n",
    "    query_gate = np.zeros((4**n, 4**n))\n",
    "\n",
    "    for x in range(2**n):\n",
    "        for y in range(2**n):\n",
    "            z = y^ pi[min(x, x^int(s,2))]\n",
    "            query_gate[x + 2**n * z, x + 2**n * y] = 1\n",
    "            \n",
    "    qc.unitary(query_gate, range(2*n))\n",
    "    return qc"
   ]
  },
  {
   "cell_type": "code",
   "execution_count": null,
   "id": "aead1a45-b3e9-4919-ab38-c9e80a94a2ec",
   "metadata": {
    "tags": []
   },
   "outputs": [],
   "source": [
    " plt.imshow(query_gate)"
   ]
  },
  {
   "cell_type": "code",
   "execution_count": 5,
   "id": "665b7eb3-8912-4508-9bd0-d8a15f7eb8f7",
   "metadata": {
    "tags": []
   },
   "outputs": [],
   "source": [
    "def simon_measurements ( problem, k):\n",
    "    #problem is the query function, k is the number of runs\n",
    "    \n",
    "    n = problem.num_qubits //2\n",
    "\n",
    "    qc = QuantumCircuit(2 * n, n)\n",
    "    qc.h(range(n))\n",
    "    qc.compose(problem, inplace=True)\n",
    "    qc.h(range(n))\n",
    "    qc.measure(range(n), range(n))\n",
    "\n",
    "    result = AerSimulator().run(qc, shots=k, memory=True).result()\n",
    "    return result.get_memory()\n",
    "    "
   ]
  },
  {
   "cell_type": "code",
   "execution_count": 6,
   "id": "3b438099-0eb8-497e-bcd3-548a9a5e73d0",
   "metadata": {
    "tags": []
   },
   "outputs": [
    {
     "data": {
      "text/plain": [
       "['11011',\n",
       " '00100',\n",
       " '00111',\n",
       " '11011',\n",
       " '00011',\n",
       " '11111',\n",
       " '10110',\n",
       " '00111',\n",
       " '11011',\n",
       " '01001',\n",
       " '00100',\n",
       " '00000']"
      ]
     },
     "execution_count": 6,
     "metadata": {},
     "output_type": "execute_result"
    }
   ],
   "source": [
    "simon_measurements(simon_function(\"11011\"),k=12)"
   ]
  },
  {
   "cell_type": "markdown",
   "id": "a5f9446d-c710-4fc9-b2a6-14a4626c250f",
   "metadata": {
    "tags": []
   },
   "source": [
    "## This is postprocessing to find the string using the measurements"
   ]
  },
  {
   "cell_type": "code",
   "execution_count": null,
   "id": "68621c22-9396-4c10-bad2-411942fd0837",
   "metadata": {},
   "outputs": [],
   "source": [
    "import numpy as np\n",
    "import galois\n",
    "\n",
    "def simon_algorithm(problem: QuantumCircuit):\n",
    "    \"\"\"\n",
    "    Given a `QuantumCircuit` that implements a query gate for Simon problem, return the hidden string `s`.\n",
    "    \"\"\"\n",
    "\n",
    "    # Quantum part: run the circuit defined previously k times and gather the measurement results.\n",
    "    # Replace +10 by +r for any nonnegative integer r depending on desired confidence.\n",
    "\n",
    "    measurements = simon_measurements(problem, k=problem.num_qubits // 2 + 10)\n",
    "    print(\"Measurement results:\")\n",
    "    display(measurements)\n",
    "\n",
    "    # Classical post-processing:\n",
    "\n",
    "    # 1. Convert measurements of form '11101' to 2D-array of integers\n",
    "    matrix = np.array([list(bitstring) for bitstring in measurements]).astype(int)\n",
    "\n",
    "    # 2. Interpret matrix as using arithmetic mod 2, and find null space\n",
    "    null_space = galois.GF(2)(matrix).null_space()\n",
    "    print(\"Null space:\")\n",
    "    display(null_space)\n",
    "\n",
    "    # 3. Convert back to a string\n",
    "    print(\"Guess for hidden string s:\")\n",
    "    if len(null_space) == 0:\n",
    "        # No non-trivial solution; `s` is all-zeros\n",
    "        return \"0\" * len(measurements[0])\n",
    "    return \"\".join(np.array(null_space[0]).astype(str))"
   ]
  }
 ],
 "metadata": {
  "kernelspec": {
   "display_name": "Qiskit v1.0.2 (ipykernel)",
   "language": "python",
   "name": "python3"
  },
  "language_info": {
   "codemirror_mode": {
    "name": "ipython",
    "version": 3
   },
   "file_extension": ".py",
   "mimetype": "text/x-python",
   "name": "python",
   "nbconvert_exporter": "python",
   "pygments_lexer": "ipython3",
   "version": "3.10.8"
  },
  "widgets": {
   "application/vnd.jupyter.widget-state+json": {
    "state": {},
    "version_major": 2,
    "version_minor": 0
   }
  }
 },
 "nbformat": 4,
 "nbformat_minor": 5
}
